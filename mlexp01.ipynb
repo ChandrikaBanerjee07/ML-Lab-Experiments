{
  "nbformat": 4,
  "nbformat_minor": 0,
  "metadata": {
    "colab": {
      "provenance": []
    },
    "kernelspec": {
      "name": "python3",
      "display_name": "Python 3"
    },
    "language_info": {
      "name": "python"
    }
  },
  "cells": [
    {
      "cell_type": "code",
      "execution_count": null,
      "metadata": {
        "colab": {
          "base_uri": "https://localhost:8080/"
        },
        "id": "nYsZm2guI_o6",
        "outputId": "ded95462-094f-4a24-d755-b049effb41f3"
      },
      "outputs": [
        {
          "output_type": "stream",
          "name": "stdout",
          "text": [
            "first 5 rows of the dataset\n",
            "   MODELYEAR   MAKE       MODEL VEHICLECLASS  ENGINESIZE  CYLINDERS  \\\n",
            "0       2014  ACURA         ILX      COMPACT         2.0          4   \n",
            "1       2014  ACURA         ILX      COMPACT         2.4          4   \n",
            "2       2014  ACURA  ILX HYBRID      COMPACT         1.5          4   \n",
            "3       2014  ACURA     MDX 4WD  SUV - SMALL         3.5          6   \n",
            "4       2014  ACURA     RDX AWD  SUV - SMALL         3.5          6   \n",
            "\n",
            "  TRANSMISSION FUELTYPE  FUELCONSUMPTION_CITY  FUELCONSUMPTION_HWY  \\\n",
            "0          AS5        Z                   9.9                  6.7   \n",
            "1           M6        Z                  11.2                  7.7   \n",
            "2          AV7        Z                   6.0                  5.8   \n",
            "3          AS6        Z                  12.7                  9.1   \n",
            "4          AS6        Z                  12.1                  8.7   \n",
            "\n",
            "   FUELCONSUMPTION_COMB  FUELCONSUMPTION_COMB_MPG  CO2EMISSIONS  \n",
            "0                   8.5                        33           196  \n",
            "1                   9.6                        29           221  \n",
            "2                   5.9                        48           136  \n",
            "3                  11.1                        25           255  \n",
            "4                  10.6                        27           244  \n",
            "\n",
            "column Names:\n",
            "['MODELYEAR', 'MAKE', 'MODEL', 'VEHICLECLASS', 'ENGINESIZE', 'CYLINDERS', 'TRANSMISSION', 'FUELTYPE', 'FUELCONSUMPTION_CITY', 'FUELCONSUMPTION_HWY', 'FUELCONSUMPTION_COMB', 'FUELCONSUMPTION_COMB_MPG', 'CO2EMISSIONS']\n",
            "\n",
            "Shape of dataset (1067, 13)\n",
            "\\Data Types\n",
            "MODELYEAR                     int64\n",
            "MAKE                         object\n",
            "MODEL                        object\n",
            "VEHICLECLASS                 object\n",
            "ENGINESIZE                  float64\n",
            "CYLINDERS                     int64\n",
            "TRANSMISSION                 object\n",
            "FUELTYPE                     object\n",
            "FUELCONSUMPTION_CITY        float64\n",
            "FUELCONSUMPTION_HWY         float64\n",
            "FUELCONSUMPTION_COMB        float64\n",
            "FUELCONSUMPTION_COMB_MPG      int64\n",
            "CO2EMISSIONS                  int64\n",
            "dtype: object\n"
          ]
        }
      ],
      "source": [
        "import pandas as pd\n",
        "df=pd.read_csv('/content/mlpython.csv')\n",
        "print(\"first 5 rows of the dataset\")\n",
        "print(df.head())\n",
        "print(\"\\ncolumn Names:\")\n",
        "print (df.columns.tolist())\n",
        "print (\"\\nShape of dataset\",df.shape)\n",
        "print (\"\\Data Types\")\n",
        "print(df.dtypes)"
      ]
    },
    {
      "cell_type": "code",
      "source": [
        "print(\"\\nSummary Statistics:\")\n",
        "print(df.describe(include='all'))\n",
        "print(df.isnull().sum())"
      ],
      "metadata": {
        "colab": {
          "base_uri": "https://localhost:8080/"
        },
        "id": "O8M0116hRLXs",
        "outputId": "2f12062a-23d3-4b6f-f3aa-a09dc7962376"
      },
      "execution_count": null,
      "outputs": [
        {
          "output_type": "stream",
          "name": "stdout",
          "text": [
            "\n",
            "Summary Statistics:\n",
            "        MODELYEAR  MAKE         MODEL VEHICLECLASS   ENGINESIZE    CYLINDERS  \\\n",
            "count      1067.0  1067          1067         1067  1067.000000  1067.000000   \n",
            "unique        NaN    39           663           16          NaN          NaN   \n",
            "top           NaN  FORD  F150 FFV 4X4     MID-SIZE          NaN          NaN   \n",
            "freq          NaN    90             8          178          NaN          NaN   \n",
            "mean       2014.0   NaN           NaN          NaN     3.346298     5.794752   \n",
            "std           0.0   NaN           NaN          NaN     1.415895     1.797447   \n",
            "min        2014.0   NaN           NaN          NaN     1.000000     3.000000   \n",
            "25%        2014.0   NaN           NaN          NaN     2.000000     4.000000   \n",
            "50%        2014.0   NaN           NaN          NaN     3.400000     6.000000   \n",
            "75%        2014.0   NaN           NaN          NaN     4.300000     8.000000   \n",
            "max        2014.0   NaN           NaN          NaN     8.400000    12.000000   \n",
            "\n",
            "       TRANSMISSION FUELTYPE  FUELCONSUMPTION_CITY  FUELCONSUMPTION_HWY  \\\n",
            "count          1067     1067           1067.000000          1067.000000   \n",
            "unique           22        4                   NaN                  NaN   \n",
            "top              A6        X                   NaN                  NaN   \n",
            "freq            222      514                   NaN                  NaN   \n",
            "mean            NaN      NaN             13.296532             9.474602   \n",
            "std             NaN      NaN              4.101253             2.794510   \n",
            "min             NaN      NaN              4.600000             4.900000   \n",
            "25%             NaN      NaN             10.250000             7.500000   \n",
            "50%             NaN      NaN             12.600000             8.800000   \n",
            "75%             NaN      NaN             15.550000            10.850000   \n",
            "max             NaN      NaN             30.200000            20.500000   \n",
            "\n",
            "        FUELCONSUMPTION_COMB  FUELCONSUMPTION_COMB_MPG  CO2EMISSIONS  \n",
            "count            1067.000000               1067.000000   1067.000000  \n",
            "unique                   NaN                       NaN           NaN  \n",
            "top                      NaN                       NaN           NaN  \n",
            "freq                     NaN                       NaN           NaN  \n",
            "mean               11.580881                 26.441425    256.228679  \n",
            "std                 3.485595                  7.468702     63.372304  \n",
            "min                 4.700000                 11.000000    108.000000  \n",
            "25%                 9.000000                 21.000000    207.000000  \n",
            "50%                10.900000                 26.000000    251.000000  \n",
            "75%                13.350000                 31.000000    294.000000  \n",
            "max                25.800000                 60.000000    488.000000  \n",
            "MODELYEAR                   0\n",
            "MAKE                        0\n",
            "MODEL                       0\n",
            "VEHICLECLASS                0\n",
            "ENGINESIZE                  0\n",
            "CYLINDERS                   0\n",
            "TRANSMISSION                0\n",
            "FUELTYPE                    0\n",
            "FUELCONSUMPTION_CITY        0\n",
            "FUELCONSUMPTION_HWY         0\n",
            "FUELCONSUMPTION_COMB        0\n",
            "FUELCONSUMPTION_COMB_MPG    0\n",
            "CO2EMISSIONS                0\n",
            "dtype: int64\n"
          ]
        }
      ]
    },
    {
      "cell_type": "code",
      "source": [
        "print(df.info)"
      ],
      "metadata": {
        "colab": {
          "base_uri": "https://localhost:8080/"
        },
        "id": "DG2vgRsCRiKc",
        "outputId": "954ef561-8193-435e-d64e-bfeb7404081a"
      },
      "execution_count": null,
      "outputs": [
        {
          "output_type": "stream",
          "name": "stdout",
          "text": [
            "<bound method DataFrame.info of       MODELYEAR   MAKE       MODEL    VEHICLECLASS  ENGINESIZE  CYLINDERS  \\\n",
            "0          2014  ACURA         ILX         COMPACT         2.0          4   \n",
            "1          2014  ACURA         ILX         COMPACT         2.4          4   \n",
            "2          2014  ACURA  ILX HYBRID         COMPACT         1.5          4   \n",
            "3          2014  ACURA     MDX 4WD     SUV - SMALL         3.5          6   \n",
            "4          2014  ACURA     RDX AWD     SUV - SMALL         3.5          6   \n",
            "...         ...    ...         ...             ...         ...        ...   \n",
            "1062       2014  VOLVO    XC60 AWD     SUV - SMALL         3.0          6   \n",
            "1063       2014  VOLVO    XC60 AWD     SUV - SMALL         3.2          6   \n",
            "1064       2014  VOLVO    XC70 AWD     SUV - SMALL         3.0          6   \n",
            "1065       2014  VOLVO    XC70 AWD     SUV - SMALL         3.2          6   \n",
            "1066       2014  VOLVO    XC90 AWD  SUV - STANDARD         3.2          6   \n",
            "\n",
            "     TRANSMISSION FUELTYPE  FUELCONSUMPTION_CITY  FUELCONSUMPTION_HWY  \\\n",
            "0             AS5        Z                   9.9                  6.7   \n",
            "1              M6        Z                  11.2                  7.7   \n",
            "2             AV7        Z                   6.0                  5.8   \n",
            "3             AS6        Z                  12.7                  9.1   \n",
            "4             AS6        Z                  12.1                  8.7   \n",
            "...           ...      ...                   ...                  ...   \n",
            "1062          AS6        X                  13.4                  9.8   \n",
            "1063          AS6        X                  13.2                  9.5   \n",
            "1064          AS6        X                  13.4                  9.8   \n",
            "1065          AS6        X                  12.9                  9.3   \n",
            "1066          AS6        X                  14.9                 10.2   \n",
            "\n",
            "      FUELCONSUMPTION_COMB  FUELCONSUMPTION_COMB_MPG  CO2EMISSIONS  \n",
            "0                      8.5                        33           196  \n",
            "1                      9.6                        29           221  \n",
            "2                      5.9                        48           136  \n",
            "3                     11.1                        25           255  \n",
            "4                     10.6                        27           244  \n",
            "...                    ...                       ...           ...  \n",
            "1062                  11.8                        24           271  \n",
            "1063                  11.5                        25           264  \n",
            "1064                  11.8                        24           271  \n",
            "1065                  11.3                        25           260  \n",
            "1066                  12.8                        22           294  \n",
            "\n",
            "[1067 rows x 13 columns]>\n"
          ]
        }
      ]
    }
  ]
}